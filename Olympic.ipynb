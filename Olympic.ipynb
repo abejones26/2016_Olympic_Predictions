{
 "cells": [
  {
   "cell_type": "markdown",
   "metadata": {},
   "source": [
    "# 2016 Olympic Predictions - Who will win a medal?\n",
    "Based on athlete data from the Olympic games between 1896-2014, we created a  machine learning model to predict who would win a medal in the RIO 2016 Olympic Games. \n",
    "\n",
    "We are reading the Olympic athlete's data from Amazon Web Services S3 from a dataset found on  Kaggle (https://www.kaggle.com/pavanraj159/olympics-history-1896-2016/data). "
   ]
  },
  {
   "cell_type": "markdown",
   "metadata": {},
   "source": [
    "# Dependencies"
   ]
  },
  {
   "cell_type": "code",
   "execution_count": 20,
   "metadata": {},
   "outputs": [],
   "source": [
    "import warnings\n",
    "warnings.simplefilter('ignore')\n",
    "\n",
    "%matplotlib inline\n",
    "import matplotlib.pyplot as plt\n",
    "import pandas as pd\n",
    "import numpy as np\n",
    "from sklearn import tree\n",
    "from datetime import timedelta\n",
    "from datetime import datetime\n",
    "import seaborn as sns\n",
    "\n",
    "from math import log"
   ]
  },
  {
   "cell_type": "markdown",
   "metadata": {},
   "source": [
    "# Loading Data"
   ]
  },
  {
   "cell_type": "code",
   "execution_count": 21,
   "metadata": {},
   "outputs": [
    {
     "data": {
      "text/plain": [
       "Name      271116\n",
       "Sex       271116\n",
       "Age       261642\n",
       "Height    210945\n",
       "Weight    208241\n",
       "Team      271116\n",
       "NOC       271116\n",
       "Games     271116\n",
       "Year      271116\n",
       "Season    271116\n",
       "City      271116\n",
       "Sport     271116\n",
       "Event     271116\n",
       "Medal      39783\n",
       "dtype: int64"
      ]
     },
     "execution_count": 21,
     "metadata": {},
     "output_type": "execute_result"
    }
   ],
   "source": [
    "# # https://www.kaggle.com/pavanraj159/olympics-history-1896-2016/data\n",
    "olympics = pd.read_csv(\"https://abe-southside-final-project.s3.us-east-2.amazonaws.com/athlete_events.csv\",index_col=[0])\n",
    "olympics.dtypes\n",
    "olympics.count()"
   ]
  },
  {
   "cell_type": "markdown",
   "metadata": {},
   "source": [
    "# Reviewing dataframe"
   ]
  },
  {
   "cell_type": "code",
   "execution_count": 22,
   "metadata": {},
   "outputs": [
    {
     "data": {
      "text/html": [
       "<div>\n",
       "<style scoped>\n",
       "    .dataframe tbody tr th:only-of-type {\n",
       "        vertical-align: middle;\n",
       "    }\n",
       "\n",
       "    .dataframe tbody tr th {\n",
       "        vertical-align: top;\n",
       "    }\n",
       "\n",
       "    .dataframe thead th {\n",
       "        text-align: right;\n",
       "    }\n",
       "</style>\n",
       "<table border=\"1\" class=\"dataframe\">\n",
       "  <thead>\n",
       "    <tr style=\"text-align: right;\">\n",
       "      <th></th>\n",
       "      <th>Name</th>\n",
       "      <th>Sex</th>\n",
       "      <th>Age</th>\n",
       "      <th>Height</th>\n",
       "      <th>Weight</th>\n",
       "      <th>Team</th>\n",
       "      <th>NOC</th>\n",
       "      <th>Games</th>\n",
       "      <th>Year</th>\n",
       "      <th>Season</th>\n",
       "      <th>City</th>\n",
       "      <th>Sport</th>\n",
       "      <th>Event</th>\n",
       "      <th>Medal</th>\n",
       "    </tr>\n",
       "    <tr>\n",
       "      <th>ID</th>\n",
       "      <th></th>\n",
       "      <th></th>\n",
       "      <th></th>\n",
       "      <th></th>\n",
       "      <th></th>\n",
       "      <th></th>\n",
       "      <th></th>\n",
       "      <th></th>\n",
       "      <th></th>\n",
       "      <th></th>\n",
       "      <th></th>\n",
       "      <th></th>\n",
       "      <th></th>\n",
       "      <th></th>\n",
       "    </tr>\n",
       "  </thead>\n",
       "  <tbody>\n",
       "    <tr>\n",
       "      <td>1</td>\n",
       "      <td>A Dijiang</td>\n",
       "      <td>M</td>\n",
       "      <td>24.0</td>\n",
       "      <td>180.0</td>\n",
       "      <td>80.0</td>\n",
       "      <td>China</td>\n",
       "      <td>CHN</td>\n",
       "      <td>1992 Summer</td>\n",
       "      <td>1992</td>\n",
       "      <td>Summer</td>\n",
       "      <td>Barcelona</td>\n",
       "      <td>Basketball</td>\n",
       "      <td>Basketball Men's Basketball</td>\n",
       "      <td>NaN</td>\n",
       "    </tr>\n",
       "    <tr>\n",
       "      <td>2</td>\n",
       "      <td>A Lamusi</td>\n",
       "      <td>M</td>\n",
       "      <td>23.0</td>\n",
       "      <td>170.0</td>\n",
       "      <td>60.0</td>\n",
       "      <td>China</td>\n",
       "      <td>CHN</td>\n",
       "      <td>2012 Summer</td>\n",
       "      <td>2012</td>\n",
       "      <td>Summer</td>\n",
       "      <td>London</td>\n",
       "      <td>Judo</td>\n",
       "      <td>Judo Men's Extra-Lightweight</td>\n",
       "      <td>NaN</td>\n",
       "    </tr>\n",
       "  </tbody>\n",
       "</table>\n",
       "</div>"
      ],
      "text/plain": [
       "         Name Sex   Age  Height  Weight   Team  NOC        Games  Year  \\\n",
       "ID                                                                       \n",
       "1   A Dijiang   M  24.0   180.0    80.0  China  CHN  1992 Summer  1992   \n",
       "2    A Lamusi   M  23.0   170.0    60.0  China  CHN  2012 Summer  2012   \n",
       "\n",
       "    Season       City       Sport                         Event Medal  \n",
       "ID                                                                     \n",
       "1   Summer  Barcelona  Basketball   Basketball Men's Basketball   NaN  \n",
       "2   Summer     London        Judo  Judo Men's Extra-Lightweight   NaN  "
      ]
     },
     "execution_count": 22,
     "metadata": {},
     "output_type": "execute_result"
    }
   ],
   "source": [
    "# https://www.kaggle.com/pavanraj159/olympics-history-1896-2016/data\n",
    "# olympics = pd.read_csv('athlete_events.csv')\n",
    "olympics.head(2)\n",
    "# olympics.count()\n"
   ]
  },
  {
   "cell_type": "markdown",
   "metadata": {},
   "source": [
    "# Heat Map\n",
    "#### Using a heat map to highlight Null values"
   ]
  },
  {
   "cell_type": "code",
   "execution_count": 23,
   "metadata": {},
   "outputs": [
    {
     "data": {
      "image/png": "[encoded data removed]",
      "text/plain": [
       "<Figure size 432x288 with 2 Axes>"
      ]
     },
     "metadata": {
      "needs_background": "light"
     },
     "output_type": "display_data"
    }
   ],
   "source": [
    "# This data helps us visualize where the null values exist \n",
    "sns.heatmap(olympics.isnull())\n",
    "plt.title(\"Feature Statistics\")\n",
    "plt.savefig(\"Resources/NA_Heatmap.png\")"
   ]
  },
  {
   "cell_type": "markdown",
   "metadata": {},
   "source": [
    "# Filtering data to fit classification\n",
    "#### Name of Country (NOC) - Chose top five countries\n",
    "#### Season - Chose Summer season because it has more sports/data than winter\n",
    "#### Sport - Chose Athletics (Track and Field) because it has more data point than more data points\n",
    "#### BMI - Created column using information from columns Height and Weight"
   ]
  },
  {
   "cell_type": "code",
   "execution_count": 24,
   "metadata": {},
   "outputs": [
    {
     "data": {
      "image/png": "[encoded data removed]",
      "text/plain": [
       "<Figure size 432x288 with 2 Axes>"
      ]
     },
     "metadata": {
      "needs_background": "light"
     },
     "output_type": "display_data"
    }
   ],
   "source": [
    "countries = ['USA','BRA','GER','AUS','FRA']\n",
    "sports = ['Athletics']\n",
    "\n",
    "olympics = olympics[olympics['NOC'].isin(countries)]\n",
    "olympics = olympics[olympics['Season'] == 'Summer']\n",
    "# olympics = olympics[olympics['Sport'].isin(sports)]\n",
    "# olympics = olympics[olympics['Sex']== 'M']\n",
    "olympics = olympics[olympics['Height'].notna()]\n",
    "olympics = olympics[olympics['Age'].notna()]\n",
    "olympics['Height (m)'] = olympics['Height']/100\n",
    "olympics = olympics[olympics['Weight'].notna()] \n",
    "olympics['BMI'] = round(olympics['Weight']/(olympics['Height (m)']*olympics['Height (m)']),2)\n",
    "# olympics = olympics[olympics['Medal'] == 'Gold']\n",
    "# This data helps us visualize where the null values exist \n",
    "\n",
    "\n",
    "# wins = ['Gold','Bronze']\n",
    "\n",
    "# olympics = olympics[olympics['Medal'].isin(wins)]\n",
    "\n",
    "olympics.loc[(olympics['Medal'] == 'Gold'),'Medal']='Medal'\n",
    "olympics.loc[(olympics['Medal'] == 'Silver'),'Medal']='Medal'\n",
    "olympics.loc[(olympics['Medal'] == 'Bronze'),'Medal']='Medal'\n",
    "olympics.loc[(olympics['Medal'].isna()),'Medal']= 'Non-Medal'\n",
    "\n",
    "olympics_df = olympics[olympics['Year']< 2016]\n",
    "olympics_2016 = olympics[olympics['Year'] == 2016]\n",
    "\n",
    "sns.heatmap(olympics.isnull())\n",
    "plt.title(\"Feature Statistics with no nulls\")\n",
    "plt.savefig(\"Resources/Clean_Heatmap.png\")"
   ]
  },
  {
   "cell_type": "markdown",
   "metadata": {},
   "source": [
    "#### Saving dataframe to csv"
   ]
  },
  {
   "cell_type": "code",
   "execution_count": 25,
   "metadata": {},
   "outputs": [],
   "source": [
    "olympics_df.to_csv(\"Resources/olympics_df.csv\", index=False)\n",
    "olympics_2016.to_csv(\"Resources/olympics_2016.csv\", index=False)"
   ]
  },
  {
   "cell_type": "markdown",
   "metadata": {},
   "source": [
    "### Showing which countries have the highest count"
   ]
  },
  {
   "cell_type": "code",
   "execution_count": 26,
   "metadata": {},
   "outputs": [
    {
     "data": {
      "text/html": [
       "<div>\n",
       "<style scoped>\n",
       "    .dataframe tbody tr th:only-of-type {\n",
       "        vertical-align: middle;\n",
       "    }\n",
       "\n",
       "    .dataframe tbody tr th {\n",
       "        vertical-align: top;\n",
       "    }\n",
       "\n",
       "    .dataframe thead th {\n",
       "        text-align: right;\n",
       "    }\n",
       "</style>\n",
       "<table border=\"1\" class=\"dataframe\">\n",
       "  <thead>\n",
       "    <tr style=\"text-align: right;\">\n",
       "      <th></th>\n",
       "      <th>Name</th>\n",
       "      <th>Sex</th>\n",
       "      <th>Age</th>\n",
       "      <th>Height</th>\n",
       "      <th>Weight</th>\n",
       "      <th>Team</th>\n",
       "      <th>Games</th>\n",
       "      <th>Year</th>\n",
       "      <th>Season</th>\n",
       "      <th>City</th>\n",
       "      <th>Sport</th>\n",
       "      <th>Event</th>\n",
       "      <th>Medal</th>\n",
       "      <th>Height (m)</th>\n",
       "      <th>BMI</th>\n",
       "    </tr>\n",
       "    <tr>\n",
       "      <th>NOC</th>\n",
       "      <th></th>\n",
       "      <th></th>\n",
       "      <th></th>\n",
       "      <th></th>\n",
       "      <th></th>\n",
       "      <th></th>\n",
       "      <th></th>\n",
       "      <th></th>\n",
       "      <th></th>\n",
       "      <th></th>\n",
       "      <th></th>\n",
       "      <th></th>\n",
       "      <th></th>\n",
       "      <th></th>\n",
       "      <th></th>\n",
       "    </tr>\n",
       "  </thead>\n",
       "  <tbody>\n",
       "    <tr>\n",
       "      <td>USA</td>\n",
       "      <td>718</td>\n",
       "      <td>718</td>\n",
       "      <td>718</td>\n",
       "      <td>718</td>\n",
       "      <td>718</td>\n",
       "      <td>718</td>\n",
       "      <td>718</td>\n",
       "      <td>718</td>\n",
       "      <td>718</td>\n",
       "      <td>718</td>\n",
       "      <td>718</td>\n",
       "      <td>718</td>\n",
       "      <td>718</td>\n",
       "      <td>718</td>\n",
       "      <td>718</td>\n",
       "    </tr>\n",
       "    <tr>\n",
       "      <td>BRA</td>\n",
       "      <td>581</td>\n",
       "      <td>581</td>\n",
       "      <td>581</td>\n",
       "      <td>581</td>\n",
       "      <td>581</td>\n",
       "      <td>581</td>\n",
       "      <td>581</td>\n",
       "      <td>581</td>\n",
       "      <td>581</td>\n",
       "      <td>581</td>\n",
       "      <td>581</td>\n",
       "      <td>581</td>\n",
       "      <td>581</td>\n",
       "      <td>581</td>\n",
       "      <td>581</td>\n",
       "    </tr>\n",
       "    <tr>\n",
       "      <td>GER</td>\n",
       "      <td>535</td>\n",
       "      <td>535</td>\n",
       "      <td>535</td>\n",
       "      <td>535</td>\n",
       "      <td>535</td>\n",
       "      <td>535</td>\n",
       "      <td>535</td>\n",
       "      <td>535</td>\n",
       "      <td>535</td>\n",
       "      <td>535</td>\n",
       "      <td>535</td>\n",
       "      <td>535</td>\n",
       "      <td>535</td>\n",
       "      <td>535</td>\n",
       "      <td>535</td>\n",
       "    </tr>\n",
       "    <tr>\n",
       "      <td>AUS</td>\n",
       "      <td>512</td>\n",
       "      <td>512</td>\n",
       "      <td>512</td>\n",
       "      <td>512</td>\n",
       "      <td>512</td>\n",
       "      <td>512</td>\n",
       "      <td>512</td>\n",
       "      <td>512</td>\n",
       "      <td>512</td>\n",
       "      <td>512</td>\n",
       "      <td>512</td>\n",
       "      <td>512</td>\n",
       "      <td>512</td>\n",
       "      <td>512</td>\n",
       "      <td>512</td>\n",
       "    </tr>\n",
       "    <tr>\n",
       "      <td>FRA</td>\n",
       "      <td>511</td>\n",
       "      <td>511</td>\n",
       "      <td>511</td>\n",
       "      <td>511</td>\n",
       "      <td>511</td>\n",
       "      <td>511</td>\n",
       "      <td>511</td>\n",
       "      <td>511</td>\n",
       "      <td>511</td>\n",
       "      <td>511</td>\n",
       "      <td>511</td>\n",
       "      <td>511</td>\n",
       "      <td>511</td>\n",
       "      <td>511</td>\n",
       "      <td>511</td>\n",
       "    </tr>\n",
       "  </tbody>\n",
       "</table>\n",
       "</div>"
      ],
      "text/plain": [
       "     Name  Sex  Age  Height  Weight  Team  Games  Year  Season  City  Sport  \\\n",
       "NOC                                                                           \n",
       "USA   718  718  718     718     718   718    718   718     718   718    718   \n",
       "BRA   581  581  581     581     581   581    581   581     581   581    581   \n",
       "GER   535  535  535     535     535   535    535   535     535   535    535   \n",
       "AUS   512  512  512     512     512   512    512   512     512   512    512   \n",
       "FRA   511  511  511     511     511   511    511   511     511   511    511   \n",
       "\n",
       "     Event  Medal  Height (m)  BMI  \n",
       "NOC                                 \n",
       "USA    718    718         718  718  \n",
       "BRA    581    581         581  581  \n",
       "GER    535    535         535  535  \n",
       "AUS    512    512         512  512  \n",
       "FRA    511    511         511  511  "
      ]
     },
     "execution_count": 26,
     "metadata": {},
     "output_type": "execute_result"
    }
   ],
   "source": [
    "olympics_2016\n",
    "\n",
    "olympics_2016.groupby(['NOC']).count().sort_values('BMI',ascending = False)"
   ]
  },
  {
   "cell_type": "markdown",
   "metadata": {},
   "source": [
    "# Reviewing scatter plots of various features to identify correlation"
   ]
  },
  {
   "cell_type": "code",
   "execution_count": 32,
   "metadata": {},
   "outputs": [
    {
     "data": {
      "image/png": "[encoded data removed]",
      "text/plain": [
       "<Figure size 432x288 with 1 Axes>"
      ]
     },
     "metadata": {
      "needs_background": "light"
     },
     "output_type": "display_data"
    }
   ],
   "source": [
    "H = olympics_df['Height (m)']\n",
    "W = olympics_df['Weight']\n",
    "A = olympics_df['Age']\n",
    "B = olympics_df['BMI']\n",
    "M = olympics_df['Medal']\n",
    "\n",
    "plt.scatter(B,W,c=\"blue\")\n",
    "plt.xlabel(\"BMI\")\n",
    "plt.ylabel(\"Weight\")\n",
    "plt.title(\"BMI by Weight\")\n",
    "plt.savefig(\"Resources/BMI_Weight.png\")"
   ]
  },
  {
   "cell_type": "markdown",
   "metadata": {},
   "source": [
    "#### BMI by Height"
   ]
  },
  {
   "cell_type": "code",
   "execution_count": 31,
   "metadata": {},
   "outputs": [
    {
     "data": {
      "image/png": "[encoded data removed]",
      "text/plain": [
       "<Figure size 432x288 with 1 Axes>"
      ]
     },
     "metadata": {
      "needs_background": "light"
     },
     "output_type": "display_data"
    }
   ],
   "source": [
    "plt.scatter(B,H,c=\"red\")\n",
    "plt.xlabel(\"BMI\")\n",
    "plt.ylabel(\"Height (m)\")\n",
    "plt.title(\"BMI by Height\")\n",
    "plt.savefig(\"Resources/BMI_Height.png\")"
   ]
  },
  {
   "cell_type": "markdown",
   "metadata": {},
   "source": [
    "#### BMI by Age"
   ]
  },
  {
   "cell_type": "code",
   "execution_count": 30,
   "metadata": {},
   "outputs": [
    {
     "data": {
      "image/png": "[encoded data removed]",
      "text/plain": [
       "<Figure size 432x288 with 1 Axes>"
      ]
     },
     "metadata": {
      "needs_background": "light"
     },
     "output_type": "display_data"
    }
   ],
   "source": [
    "plt.scatter(B,A,c=\"green\")\n",
    "plt.xlabel(\"BMI\")\n",
    "plt.ylabel(\"Age\")\n",
    "plt.title(\"BMI by Age\")\n",
    "plt.savefig(\"Resources/BMI_Age.png\")"
   ]
  },
  {
   "cell_type": "markdown",
   "metadata": {},
   "source": [
    "#### Medal by BMI"
   ]
  },
  {
   "cell_type": "code",
   "execution_count": 33,
   "metadata": {},
   "outputs": [
    {
     "data": {
      "image/png": "[encoded data removed]",
      "text/plain": [
       "<Figure size 432x288 with 1 Axes>"
      ]
     },
     "metadata": {
      "needs_background": "light"
     },
     "output_type": "display_data"
    }
   ],
   "source": [
    "plt.scatter(B,M,c=\"purple\")\n",
    "plt.xlabel(\"BMI\")\n",
    "plt.ylabel(\"Medal\")\n",
    "plt.title(\"Medal by BMI\")\n",
    "plt.savefig(\"Resources/Medal_BMI.png\")"
   ]
  },
  {
   "cell_type": "markdown",
   "metadata": {},
   "source": [
    "#### Confirming the three medals for converted to just medal"
   ]
  },
  {
   "cell_type": "code",
   "execution_count": 378,
   "metadata": {},
   "outputs": [
    {
     "data": {
      "text/plain": [
       "array(['Non-Medal', 'Medal'], dtype=object)"
      ]
     },
     "execution_count": 378,
     "metadata": {},
     "output_type": "execute_result"
    }
   ],
   "source": [
    "olympics_df['Medal'].unique()"
   ]
  },
  {
   "cell_type": "markdown",
   "metadata": {},
   "source": [
    "# Logistic Regression\n",
    "#### Preparing features columns and output of x and y"
   ]
  },
  {
   "cell_type": "code",
   "execution_count": 36,
   "metadata": {},
   "outputs": [
    {
     "name": "stdout",
     "output_type": "stream",
     "text": [
      "(29204, 11) (29204,)\n"
     ]
    },
    {
     "data": {
      "text/plain": [
       "ID\n",
       "34        Non-Medal\n",
       "52        Non-Medal\n",
       "73            Medal\n",
       "73            Medal\n",
       "84            Medal\n",
       "            ...    \n",
       "135528    Non-Medal\n",
       "135530    Non-Medal\n",
       "135531    Non-Medal\n",
       "135543    Non-Medal\n",
       "135566    Non-Medal\n",
       "Name: Medal, Length: 29204, dtype: object"
      ]
     },
     "execution_count": 36,
     "metadata": {},
     "output_type": "execute_result"
    }
   ],
   "source": [
    "X = pd.get_dummies(olympics_df[[\"Sex\", \"Age\", \"Height\", \"Weight\",\"BMI\",\"NOC\"]])\n",
    "# X = olympics[[\"BMI\",\"NOC\"]]\n",
    "y = olympics_df[\"Medal\"]\n",
    "print(X.shape, y.shape)\n",
    "\n",
    "# plt.scatter(X,y)\n",
    "X\n",
    "y"
   ]
  },
  {
   "cell_type": "markdown",
   "metadata": {},
   "source": [
    "## Fitting x and y using sklearn"
   ]
  },
  {
   "cell_type": "code",
   "execution_count": 39,
   "metadata": {},
   "outputs": [],
   "source": [
    "from sklearn.model_selection import train_test_split\n",
    "\n",
    "X_train, X_test, y_train, y_test = train_test_split(X, y, random_state=42)"
   ]
  },
  {
   "cell_type": "markdown",
   "metadata": {},
   "source": [
    "#### Creating test dataset to run the machine learning model on"
   ]
  },
  {
   "cell_type": "code",
   "execution_count": 42,
   "metadata": {},
   "outputs": [
    {
     "data": {
      "text/plain": [
       "ID\n",
       "73            Medal\n",
       "149       Non-Medal\n",
       "402       Non-Medal\n",
       "444       Non-Medal\n",
       "451       Non-Medal\n",
       "            ...    \n",
       "134960    Non-Medal\n",
       "134998    Non-Medal\n",
       "135037    Non-Medal\n",
       "135525        Medal\n",
       "135528    Non-Medal\n",
       "Name: Medal, Length: 2857, dtype: object"
      ]
     },
     "execution_count": 42,
     "metadata": {},
     "output_type": "execute_result"
    }
   ],
   "source": [
    "X_test\n",
    "\n",
    "X_2016 = pd.get_dummies(olympics_2016[[\"Sex\", \"Age\", \"Height\", \"Weight\",\"BMI\",\"NOC\"]])\n",
    "X_2016\n",
    "\n",
    "y_2016 = olympics_2016[\"Medal\"]\n",
    "y_2016"
   ]
  },
  {
   "cell_type": "markdown",
   "metadata": {},
   "source": [
    "# Logistic Regression"
   ]
  },
  {
   "cell_type": "code",
   "execution_count": 43,
   "metadata": {},
   "outputs": [
    {
     "data": {
      "text/plain": [
       "LogisticRegression(C=1.0, class_weight=None, dual=False, fit_intercept=True,\n",
       "                   intercept_scaling=1, l1_ratio=None, max_iter=100,\n",
       "                   multi_class='warn', n_jobs=None, penalty='l2',\n",
       "                   random_state=None, solver='warn', tol=0.0001, verbose=0,\n",
       "                   warm_start=False)"
      ]
     },
     "execution_count": 43,
     "metadata": {},
     "output_type": "execute_result"
    }
   ],
   "source": [
    "from sklearn.linear_model import LogisticRegression\n",
    "classifier = LogisticRegression()\n",
    "classifier.fit(X_train, y_train)"
   ]
  },
  {
   "cell_type": "markdown",
   "metadata": {},
   "source": [
    "#### Scoring classifiers"
   ]
  },
  {
   "cell_type": "code",
   "execution_count": 44,
   "metadata": {},
   "outputs": [
    {
     "name": "stdout",
     "output_type": "stream",
     "text": [
      "Training Data Score: 0.7643245217550108\n",
      "Testing Data Score: 0.7651006711409396\n"
     ]
    }
   ],
   "source": [
    "print(f\"Training Data Score: {classifier.score(X_train, y_train)}\")\n",
    "print(f\"Testing Data Score: {classifier.score(X_test, y_test)}\")"
   ]
  },
  {
   "cell_type": "markdown",
   "metadata": {},
   "source": [
    "#### Machine learning model predictions tested on 2016 data"
   ]
  },
  {
   "cell_type": "code",
   "execution_count": 45,
   "metadata": {},
   "outputs": [
    {
     "name": "stdout",
     "output_type": "stream",
     "text": [
      "First 10 Predictions:   ['Non-Medal' 'Non-Medal' 'Non-Medal' 'Non-Medal' 'Non-Medal' 'Non-Medal'\n",
      " 'Non-Medal' 'Non-Medal' 'Non-Medal' 'Non-Medal']\n",
      "First 10 Actual labels: ['Medal', 'Non-Medal', 'Non-Medal', 'Non-Medal', 'Non-Medal', 'Non-Medal', 'Medal', 'Non-Medal', 'Non-Medal', 'Non-Medal']\n"
     ]
    }
   ],
   "source": [
    "predictions = classifier.predict(X_2016)\n",
    "print(f\"First 10 Predictions:   {predictions[:10]}\")\n",
    "print(f\"First 10 Actual labels: {y_2016[:10].tolist()}\")"
   ]
  },
  {
   "cell_type": "code",
   "execution_count": 47,
   "metadata": {},
   "outputs": [
    {
     "data": {
      "text/html": [
       "<div>\n",
       "<style scoped>\n",
       "    .dataframe tbody tr th:only-of-type {\n",
       "        vertical-align: middle;\n",
       "    }\n",
       "\n",
       "    .dataframe tbody tr th {\n",
       "        vertical-align: top;\n",
       "    }\n",
       "\n",
       "    .dataframe thead th {\n",
       "        text-align: right;\n",
       "    }\n",
       "</style>\n",
       "<table border=\"1\" class=\"dataframe\">\n",
       "  <thead>\n",
       "    <tr style=\"text-align: right;\">\n",
       "      <th></th>\n",
       "      <th>Prediction</th>\n",
       "      <th>Actual</th>\n",
       "    </tr>\n",
       "  </thead>\n",
       "  <tbody>\n",
       "    <tr>\n",
       "      <td>0</td>\n",
       "      <td>Non-Medal</td>\n",
       "      <td>Medal</td>\n",
       "    </tr>\n",
       "    <tr>\n",
       "      <td>1</td>\n",
       "      <td>Non-Medal</td>\n",
       "      <td>Non-Medal</td>\n",
       "    </tr>\n",
       "    <tr>\n",
       "      <td>2</td>\n",
       "      <td>Non-Medal</td>\n",
       "      <td>Non-Medal</td>\n",
       "    </tr>\n",
       "    <tr>\n",
       "      <td>3</td>\n",
       "      <td>Non-Medal</td>\n",
       "      <td>Non-Medal</td>\n",
       "    </tr>\n",
       "    <tr>\n",
       "      <td>4</td>\n",
       "      <td>Non-Medal</td>\n",
       "      <td>Non-Medal</td>\n",
       "    </tr>\n",
       "    <tr>\n",
       "      <td>...</td>\n",
       "      <td>...</td>\n",
       "      <td>...</td>\n",
       "    </tr>\n",
       "    <tr>\n",
       "      <td>2852</td>\n",
       "      <td>Non-Medal</td>\n",
       "      <td>Non-Medal</td>\n",
       "    </tr>\n",
       "    <tr>\n",
       "      <td>2853</td>\n",
       "      <td>Non-Medal</td>\n",
       "      <td>Non-Medal</td>\n",
       "    </tr>\n",
       "    <tr>\n",
       "      <td>2854</td>\n",
       "      <td>Non-Medal</td>\n",
       "      <td>Non-Medal</td>\n",
       "    </tr>\n",
       "    <tr>\n",
       "      <td>2855</td>\n",
       "      <td>Non-Medal</td>\n",
       "      <td>Medal</td>\n",
       "    </tr>\n",
       "    <tr>\n",
       "      <td>2856</td>\n",
       "      <td>Non-Medal</td>\n",
       "      <td>Non-Medal</td>\n",
       "    </tr>\n",
       "  </tbody>\n",
       "</table>\n",
       "<p>2857 rows × 2 columns</p>\n",
       "</div>"
      ],
      "text/plain": [
       "     Prediction     Actual\n",
       "0     Non-Medal      Medal\n",
       "1     Non-Medal  Non-Medal\n",
       "2     Non-Medal  Non-Medal\n",
       "3     Non-Medal  Non-Medal\n",
       "4     Non-Medal  Non-Medal\n",
       "...         ...        ...\n",
       "2852  Non-Medal  Non-Medal\n",
       "2853  Non-Medal  Non-Medal\n",
       "2854  Non-Medal  Non-Medal\n",
       "2855  Non-Medal      Medal\n",
       "2856  Non-Medal  Non-Medal\n",
       "\n",
       "[2857 rows x 2 columns]"
      ]
     },
     "execution_count": 47,
     "metadata": {},
     "output_type": "execute_result"
    }
   ],
   "source": [
    "Testing = pd.DataFrame({\"Prediction\": predictions, \"Actual\": y_2016}).reset_index(drop=True)\n",
    "Testing"
   ]
  },
  {
   "cell_type": "code",
   "execution_count": 48,
   "metadata": {},
   "outputs": [
    {
     "data": {
      "text/html": [
       "<div>\n",
       "<style scoped>\n",
       "    .dataframe tbody tr th:only-of-type {\n",
       "        vertical-align: middle;\n",
       "    }\n",
       "\n",
       "    .dataframe tbody tr th {\n",
       "        vertical-align: top;\n",
       "    }\n",
       "\n",
       "    .dataframe thead th {\n",
       "        text-align: right;\n",
       "    }\n",
       "</style>\n",
       "<table border=\"1\" class=\"dataframe\">\n",
       "  <thead>\n",
       "    <tr style=\"text-align: right;\">\n",
       "      <th>Prediction</th>\n",
       "      <th>Medal</th>\n",
       "      <th>Non-Medal</th>\n",
       "    </tr>\n",
       "    <tr>\n",
       "      <th>Actual</th>\n",
       "      <th></th>\n",
       "      <th></th>\n",
       "    </tr>\n",
       "  </thead>\n",
       "  <tbody>\n",
       "    <tr>\n",
       "      <td>Medal</td>\n",
       "      <td>55</td>\n",
       "      <td>595</td>\n",
       "    </tr>\n",
       "    <tr>\n",
       "      <td>Non-Medal</td>\n",
       "      <td>25</td>\n",
       "      <td>2182</td>\n",
       "    </tr>\n",
       "  </tbody>\n",
       "</table>\n",
       "</div>"
      ],
      "text/plain": [
       "Prediction  Medal  Non-Medal\n",
       "Actual                      \n",
       "Medal          55        595\n",
       "Non-Medal      25       2182"
      ]
     },
     "execution_count": 48,
     "metadata": {},
     "output_type": "execute_result"
    }
   ],
   "source": [
    "pd.crosstab(Testing['Actual'],Testing['Prediction'])"
   ]
  },
  {
   "cell_type": "markdown",
   "metadata": {},
   "source": [
    "## Visualize Actuals and Predictions\n",
    "#### Based on historical summer olympics (Athletics) prior to 2016 dataset, we were 78% accurate with identifyiing people that won and did not win medals in the 2016 olympics."
   ]
  },
  {
   "cell_type": "code",
   "execution_count": 56,
   "metadata": {},
   "outputs": [
    {
     "data": {
      "image/png": "[encoded data removed]",
      "text/plain": [
       "<Figure size 432x288 with 2 Axes>"
      ]
     },
     "metadata": {
      "needs_background": "light"
     },
     "output_type": "display_data"
    }
   ],
   "source": [
    "lr_heatmap = sns.heatmap(pd.crosstab(Testing['Actual'],Testing['Prediction']),cmap=\"YlGnBu\", annot=True, cbar=True, annot_kws = {'ha': 'center','va': 'center'})\n",
    "bottom, top = lr_heatmap.get_ylim()\n",
    "lr_heatmap.set_ylim(bottom + 0.5, top - 0.5)\n",
    "plt.title(\"Logistic Regression Crosstab\")\n",
    "plt.savefig(\"Resources/LR_Crosstab_heatmap.png\")"
   ]
  },
  {
   "cell_type": "markdown",
   "metadata": {},
   "source": [
    "#### Reviewing prediction data"
   ]
  },
  {
   "cell_type": "code",
   "execution_count": 360,
   "metadata": {},
   "outputs": [
    {
     "data": {
      "text/html": [
       "<div>\n",
       "<style scoped>\n",
       "    .dataframe tbody tr th:only-of-type {\n",
       "        vertical-align: middle;\n",
       "    }\n",
       "\n",
       "    .dataframe tbody tr th {\n",
       "        vertical-align: top;\n",
       "    }\n",
       "\n",
       "    .dataframe thead th {\n",
       "        text-align: right;\n",
       "    }\n",
       "</style>\n",
       "<table border=\"1\" class=\"dataframe\">\n",
       "  <thead>\n",
       "    <tr style=\"text-align: right;\">\n",
       "      <th></th>\n",
       "      <th>Prediction</th>\n",
       "      <th>Actual</th>\n",
       "    </tr>\n",
       "  </thead>\n",
       "  <tbody>\n",
       "    <tr>\n",
       "      <th>13</th>\n",
       "      <td>Medal</td>\n",
       "      <td>Medal</td>\n",
       "    </tr>\n",
       "    <tr>\n",
       "      <th>16</th>\n",
       "      <td>Medal</td>\n",
       "      <td>Medal</td>\n",
       "    </tr>\n",
       "    <tr>\n",
       "      <th>17</th>\n",
       "      <td>Medal</td>\n",
       "      <td>Medal</td>\n",
       "    </tr>\n",
       "    <tr>\n",
       "      <th>18</th>\n",
       "      <td>Medal</td>\n",
       "      <td>Medal</td>\n",
       "    </tr>\n",
       "    <tr>\n",
       "      <th>19</th>\n",
       "      <td>Medal</td>\n",
       "      <td>Medal</td>\n",
       "    </tr>\n",
       "    <tr>\n",
       "      <th>...</th>\n",
       "      <td>...</td>\n",
       "      <td>...</td>\n",
       "    </tr>\n",
       "    <tr>\n",
       "      <th>2511</th>\n",
       "      <td>Medal</td>\n",
       "      <td>Medal</td>\n",
       "    </tr>\n",
       "    <tr>\n",
       "      <th>2593</th>\n",
       "      <td>Medal</td>\n",
       "      <td>Medal</td>\n",
       "    </tr>\n",
       "    <tr>\n",
       "      <th>2637</th>\n",
       "      <td>Medal</td>\n",
       "      <td>Medal</td>\n",
       "    </tr>\n",
       "    <tr>\n",
       "      <th>2675</th>\n",
       "      <td>Medal</td>\n",
       "      <td>Non-Medal</td>\n",
       "    </tr>\n",
       "    <tr>\n",
       "      <th>2742</th>\n",
       "      <td>Medal</td>\n",
       "      <td>Non-Medal</td>\n",
       "    </tr>\n",
       "  </tbody>\n",
       "</table>\n",
       "<p>80 rows × 2 columns</p>\n",
       "</div>"
      ],
      "text/plain": [
       "     Prediction     Actual\n",
       "13        Medal      Medal\n",
       "16        Medal      Medal\n",
       "17        Medal      Medal\n",
       "18        Medal      Medal\n",
       "19        Medal      Medal\n",
       "...         ...        ...\n",
       "2511      Medal      Medal\n",
       "2593      Medal      Medal\n",
       "2637      Medal      Medal\n",
       "2675      Medal  Non-Medal\n",
       "2742      Medal  Non-Medal\n",
       "\n",
       "[80 rows x 2 columns]"
      ]
     },
     "execution_count": 360,
     "metadata": {},
     "output_type": "execute_result"
    }
   ],
   "source": [
    "# Testing[(Testing['Actual'] != 'Others') & (Testing['Prediction'] != 'Others')]\n",
    "Testing[(Testing['Prediction'] == 'Medal')]\n",
    "# Testing[(Testing['Prediction'] == 'Non-Medal')]\n"
   ]
  },
  {
   "cell_type": "markdown",
   "metadata": {},
   "source": [
    "# DECISION TREE\n",
    "#### Shows the weight of each feature importance"
   ]
  },
  {
   "cell_type": "code",
   "execution_count": 52,
   "metadata": {},
   "outputs": [
    {
     "name": "stdout",
     "output_type": "stream",
     "text": [
      "(29204, 11) (29204, 1)\n"
     ]
    },
    {
     "data": {
      "text/plain": [
       "[(0.3166495688864696, 'Age'),\n",
       " (0.24513320806237207, 'BMI'),\n",
       " (0.1807543468275149, 'Weight'),\n",
       " (0.17887548510153967, 'Height'),\n",
       " (0.03427198273317822, 'NOC_USA'),\n",
       " (0.012062025084045983, 'NOC_FRA'),\n",
       " (0.007440472672806307, 'Sex_M'),\n",
       " (0.007429280273467982, 'Sex_F'),\n",
       " (0.006263170410489662, 'NOC_AUS'),\n",
       " (0.005833690441995799, 'NOC_GER'),\n",
       " (0.005286769506119888, 'NOC_BRA')]"
      ]
     },
     "execution_count": 52,
     "metadata": {},
     "output_type": "execute_result"
    }
   ],
   "source": [
    "X = pd.get_dummies(olympics_df[[\"Sex\", \"Age\", \"Height\", \"Weight\",\"BMI\",\"NOC\"]])\n",
    "y = olympics_df[\"Medal\"].values.reshape(-1,1)\n",
    "print(X.shape, y.shape)\n",
    "feature_names = X\n",
    "\n",
    "from sklearn.model_selection import train_test_split\n",
    "X_train, X_test, y_train, y_test = train_test_split(X, y, random_state=42)\n",
    "\n",
    "clf = tree.DecisionTreeClassifier()\n",
    "clf = clf.fit(X_train, y_train)\n",
    "clf.score(X_test, y_test)\n",
    "\n",
    "from sklearn.ensemble import RandomForestClassifier\n",
    "rf = RandomForestClassifier(n_estimators=200)\n",
    "rf = rf.fit(X_train, y_train)\n",
    "rf.score(X_test, y_test)\n",
    "\n",
    "sorted(zip(rf.feature_importances_, feature_names), reverse=True)"
   ]
  },
  {
   "cell_type": "markdown",
   "metadata": {},
   "source": [
    "# Random Forest\n",
    "#### Shows the weight of each feature importance\n",
    "#### Validated Decision Tree results"
   ]
  },
  {
   "cell_type": "code",
   "execution_count": 53,
   "metadata": {},
   "outputs": [
    {
     "data": {
      "text/plain": [
       "[(0.3239464513307703, 'Age'),\n",
       " (0.24246967786339435, 'BMI'),\n",
       " (0.17792575198506635, 'Weight'),\n",
       " (0.17699775041135016, 'Height'),\n",
       " (0.03614115344352972, 'NOC_USA'),\n",
       " (0.011410259656930457, 'NOC_FRA'),\n",
       " (0.007709987392218968, 'Sex_M'),\n",
       " (0.007518281249975504, 'Sex_F'),\n",
       " (0.005848842578122526, 'NOC_AUS'),\n",
       " (0.005317231790626108, 'NOC_GER'),\n",
       " (0.00471461229801561, 'NOC_BRA')]"
      ]
     },
     "execution_count": 53,
     "metadata": {},
     "output_type": "execute_result"
    }
   ],
   "source": [
    "from sklearn.ensemble import RandomForestClassifier\n",
    "from sklearn.datasets import load_iris\n",
    "\n",
    "# Create a random forest classifier\n",
    "rf = rf.fit(X, y)\n",
    "rf.score(X, y)\n",
    "\n",
    "# Random Forests in sklearn will automatically calculate feature importance\n",
    "importances = rf.feature_importances_\n",
    "importances\n",
    "\n",
    "# We can sort the features by their importance\n",
    "sorted(zip(rf.feature_importances_, X), reverse=True)"
   ]
  },
  {
   "cell_type": "code",
   "execution_count": null,
   "metadata": {},
   "outputs": [],
   "source": []
  }
 ],
 "metadata": {
  "kernelspec": {
   "display_name": "Python 3",
   "language": "python",
   "name": "python3"
  },
  "language_info": {
   "codemirror_mode": {
    "name": "ipython",
    "version": 3
   },
   "file_extension": ".py",
   "mimetype": "text/x-python",
   "name": "python",
   "nbconvert_exporter": "python",
   "pygments_lexer": "ipython3",
   "version": "3.7.4"
  }
 },
 "nbformat": 4,
 "nbformat_minor": 4
}
